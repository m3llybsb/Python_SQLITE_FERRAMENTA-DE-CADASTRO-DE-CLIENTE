{
 "cells": [
  {
   "cell_type": "code",
   "execution_count": null,
   "id": "4fc2b24b",
   "metadata": {},
   "outputs": [],
   "source": [
    "# 1 - Importar bibliotecas necessárias\n",
    "# 2 - Criar Banco de Dados e Tabela\n",
    "# 3 - Criar cadastro clientes\n",
    "# 4 - Deletar nomes do campo após o nome inseridos\n",
    "# 5 - Exportar clientes para o excel\n",
    "# 6 - Criar o titulo da interface\n",
    "# 7 - Criar etiquetas\n",
    "# 8 - Criar Widgets\n",
    "# 9 - Criar INPUT cadastrar e exportar"
   ]
  },
  {
   "cell_type": "code",
   "execution_count": 1,
   "id": "f82e98d5",
   "metadata": {},
   "outputs": [],
   "source": [
    "# 1 - Importar bibliotecas necessárias\n",
    "import tkinter as tk\n",
    "import sqlite3\n",
    "import pandas as pd"
   ]
  },
  {
   "cell_type": "code",
   "execution_count": 2,
   "id": "35215621",
   "metadata": {},
   "outputs": [
    {
     "data": {
      "text/plain": [
       "<sqlite3.Cursor at 0x1bdfccd6240>"
      ]
     },
     "execution_count": 2,
     "metadata": {},
     "output_type": "execute_result"
    }
   ],
   "source": [
    "# 2 - Criar Banco de Dados e Tabela\n",
    "conexao = sqlite3.connect('C:/Users/Thiago/Desktop/PROJ_Python2024/banco_clientes_teste1.db')\n",
    "c = conexao.cursor()\n",
    "c.execute(''' CREATE TABLE clientes (nome text, sobrenome text, email text, telefone text)''')"
   ]
  },
  {
   "cell_type": "code",
   "execution_count": 3,
   "id": "49f3dc82",
   "metadata": {},
   "outputs": [],
   "source": [
    "conexao.commit()\n",
    "conexao.close()"
   ]
  },
  {
   "cell_type": "code",
   "execution_count": 4,
   "id": "235338f7",
   "metadata": {},
   "outputs": [],
   "source": [
    "# 3 - Criar cadastro clientes - # 4 - Deletar nomes do campo após o nome inseridos - # 5 - Exportar clientes para o excel\n",
    "def cadastrar_cliente():\n",
    "    conexao = sqlite3.connect('C:/Users/Thiago/Desktop/PROJ_Python2024/banco_clientes_teste1.db')\n",
    "    c = conexao.cursor()\n",
    "    c.execute(\"INSERT INTO clientes VALUES(:nome, :sobrenome, :email, :telefone)\", \n",
    "             {\n",
    "                'nome':entry_nome.get(),\n",
    "                'sobrenome':entry_sobrenome.get(),\n",
    "                'email':entry_email.get(),\n",
    "                'telefone':entry_telefone.get(),\n",
    "             })\n",
    "    \n",
    "    entry_nome.delete(0, 'end')\n",
    "    entry_sobrenome.delete(0, 'end')\n",
    "    entry_email.delete(0, 'end')\n",
    "    entry_telefone.delete(0, 'end')\n",
    "    \n",
    "    conexao.commit()\n",
    "    conexao.close()\n",
    "    \n",
    "def exporta_clientes():\n",
    "    conexao = sqlite3.connect('C:/Users/Thiago/Desktop/PROJ_Python2024/banco_clientes.db')\n",
    "    c = conexao.cursor()\n",
    "    c.execute(\"SELECT *, oid FROM clientes\")\n",
    "    \n",
    "    clientes_cadastrados = c.fetchall()\n",
    "    clientes_cadastrados = pd.DataFrame(clientes_cadastrados, columns=['nome', 'sobrenome', 'email', 'telefone', 'id_banco'])\n",
    "    clientes_cadastrados.to_excel('banco_clientes.xlsx')\n",
    "                                        \n",
    "    print(clientes_cadastrados)\n",
    "                                        \n",
    "    conexao.commit()\n",
    "    conexao.close()\n",
    "    \n",
    "    "
   ]
  },
  {
   "cell_type": "code",
   "execution_count": 5,
   "id": "0eb3b8b4",
   "metadata": {},
   "outputs": [
    {
     "data": {
      "text/plain": [
       "''"
      ]
     },
     "execution_count": 5,
     "metadata": {},
     "output_type": "execute_result"
    }
   ],
   "source": [
    "# 6 - Criar o titulo da interface\n",
    "janela = tk.Tk()\n",
    "janela.title('FERRAMENTA DE CADASTRO DE CLIENTE')"
   ]
  },
  {
   "cell_type": "code",
   "execution_count": 6,
   "id": "eea5ccca",
   "metadata": {},
   "outputs": [],
   "source": [
    "# 7 - Criar etiquetas\n",
    "\n",
    "label_nome = tk.Label(janela, text = 'NOME', width=35)\n",
    "label_nome.grid(row=0, column=0, padx=15, pady=10)\n",
    "\n",
    "label_sobrenome = tk.Label(janela, text = 'SOBRENOME', width=35)\n",
    "label_sobrenome.grid(row=1, column=0, padx=15, pady=10)\n",
    "\n",
    "label_email = tk.Label(janela, text = 'E-MAIL', width=35)\n",
    "label_email.grid(row=2, column=0, padx=15, pady=10)\n",
    "\n",
    "label_telefone = tk.Label(janela, text = 'TELEFONE+DD', width=35)\n",
    "label_telefone.grid(row=3, column=0, padx=15, pady=10)\n"
   ]
  },
  {
   "cell_type": "code",
   "execution_count": 7,
   "id": "b1ab695c",
   "metadata": {},
   "outputs": [],
   "source": [
    "# 8 - Criar Widgets\n",
    "entry_nome = tk.Entry(janela, text = 'NOME', width=35)\n",
    "entry_nome.grid(row=0, column=1, padx=15, pady=10)\n",
    "\n",
    "entry_sobrenome = tk.Entry(janela, text = 'SOBRENOME', width=35)\n",
    "entry_sobrenome.grid(row=1, column=1, padx=15, pady=10)\n",
    "\n",
    "entry_email = tk.Entry(janela, text = 'EMAIL', width=35)\n",
    "entry_email.grid(row=2, column=1, padx=15, pady=10)\n",
    "\n",
    "entry_telefone = tk.Entry(janela, text = 'TELEFONE+DD', width=35)\n",
    "entry_telefone.grid(row=3, column=1, padx=15, pady=10)\n"
   ]
  },
  {
   "cell_type": "code",
   "execution_count": null,
   "id": "46a5e47b",
   "metadata": {},
   "outputs": [],
   "source": [
    "# 9 - Criar cadastrar e exportar\n",
    "botao_cadastrar = tk.Button(janela, text = 'CADASTRAR CLIENTE', command = cadastrar_cliente)\n",
    "botao_cadastrar.grid(row=5, column=0, padx=15, pady=10, columnspan=2, ipadx=34)\n",
    "\n",
    "botao_exportar = tk.Button(janela, text = 'EXPORTAR BASE DE CLIENTE', command = exporta_clientes)\n",
    "botao_exportar.grid(row=6, column=0, padx=15, pady=10, columnspan=2, ipadx=18)\n",
    "\n",
    "janela.mainloop()"
   ]
  },
  {
   "cell_type": "code",
   "execution_count": null,
   "id": "932fde44",
   "metadata": {},
   "outputs": [],
   "source": []
  },
  {
   "cell_type": "code",
   "execution_count": null,
   "id": "54f62fdf",
   "metadata": {},
   "outputs": [],
   "source": []
  }
 ],
 "metadata": {
  "kernelspec": {
   "display_name": "Python 3 (ipykernel)",
   "language": "python",
   "name": "python3"
  },
  "language_info": {
   "codemirror_mode": {
    "name": "ipython",
    "version": 3
   },
   "file_extension": ".py",
   "mimetype": "text/x-python",
   "name": "python",
   "nbconvert_exporter": "python",
   "pygments_lexer": "ipython3",
   "version": "3.11.7"
  }
 },
 "nbformat": 4,
 "nbformat_minor": 5
}
